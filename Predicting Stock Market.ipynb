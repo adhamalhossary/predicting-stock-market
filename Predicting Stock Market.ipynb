{
 "cells": [
  {
   "cell_type": "markdown",
   "metadata": {},
   "source": [
    "# Introduction"
   ]
  },
  {
   "cell_type": "markdown",
   "metadata": {},
   "source": [
    "In this project, we will be working with data from the S&P500 Index. The S&P500 is a stock market index. Before we get into what an index is, we'll need to get into the basics of the stock market.\n",
    "\n",
    "Some companies are publicly traded, which means that anyone can buy and sell their shares on the open market. A share entitles the owner to some control over the direction of the company, and to some percentage (or share) of the earnings of the company. When we buy or sell shares, it's common to say that we are trading a stock.\n",
    "\n",
    "The price of a share is based mainly on supply and demand for a given stock. For example, Apple stock has a price of 120 dollars per share as of December 2015 -- http://www.nasdaq.com/symbol/aapl. A stock that is in less demand, like Ford Motor Company, has a lower price -- http://finance.yahoo.com/q?s=F. Stock price is also influenced by other factors, including the number of shares a company has issued.\n",
    "\n",
    "Stocks are traded daily, and the price can rise or fall from the beginning of a trading day to the end based on demand. Stocks that are in more in demand, such as Apple, are traded more often than stocks of smaller companies.\n",
    "\n",
    "Indexes aggregate the prices of multiple stocks together, and allow us to see how the market as a whole is performing. For example, the Dow Jones Industrial Average aggregates the stock prices of 30 large American companies together. The S&P500 Index aggregates the stock prices of 500 large companies. When an index fund goes up or down, we can say that the underlying market or sector it represents is also going up or down. For example, if the Dow Jones Industrial Average price goes down one day, we can say that American stocks overall went down (ie, most American stocks went down in price).\n",
    "\n",
    "we will be using historical data on the price of the S&P500 Index to make predictions about future prices. Predicting whether an index will go up or down will help us forecast how the stock market as a whole will perform. Since stocks tend to correlate with how well the economy as a whole is performing, it can also help us make economic forecasts."
   ]
  },
  {
   "cell_type": "code",
   "execution_count": 37,
   "metadata": {},
   "outputs": [],
   "source": [
    "# Importing Resources\n",
    "\n",
    "import pandas as pd\n",
    "import numpy as np\n",
    "import matplotlib.pyplot as plt\n",
    "import matplotlib.patches as mpatches\n",
    "\n",
    "from datetime import datetime\n",
    "from sklearn.metrics import mean_absolute_error, mean_squared_error\n",
    "from time import time\n",
    "\n",
    "import visuals as vs\n",
    "\n",
    "import warnings\n",
    "warnings.filterwarnings('ignore')"
   ]
  },
  {
   "cell_type": "markdown",
   "metadata": {},
   "source": [
    "# Exploring the Data"
   ]
  },
  {
   "cell_type": "code",
   "execution_count": 2,
   "metadata": {
    "scrolled": true
   },
   "outputs": [
    {
     "data": {
      "text/html": [
       "<div>\n",
       "<style scoped>\n",
       "    .dataframe tbody tr th:only-of-type {\n",
       "        vertical-align: middle;\n",
       "    }\n",
       "\n",
       "    .dataframe tbody tr th {\n",
       "        vertical-align: top;\n",
       "    }\n",
       "\n",
       "    .dataframe thead th {\n",
       "        text-align: right;\n",
       "    }\n",
       "</style>\n",
       "<table border=\"1\" class=\"dataframe\">\n",
       "  <thead>\n",
       "    <tr style=\"text-align: right;\">\n",
       "      <th></th>\n",
       "      <th>Date</th>\n",
       "      <th>Open</th>\n",
       "      <th>High</th>\n",
       "      <th>Low</th>\n",
       "      <th>Close</th>\n",
       "      <th>Volume</th>\n",
       "      <th>Adj Close</th>\n",
       "    </tr>\n",
       "  </thead>\n",
       "  <tbody>\n",
       "    <tr>\n",
       "      <th>0</th>\n",
       "      <td>2015-12-07</td>\n",
       "      <td>2090.419922</td>\n",
       "      <td>2090.419922</td>\n",
       "      <td>2066.780029</td>\n",
       "      <td>2077.070068</td>\n",
       "      <td>4.043820e+09</td>\n",
       "      <td>2077.070068</td>\n",
       "    </tr>\n",
       "    <tr>\n",
       "      <th>1</th>\n",
       "      <td>2015-12-04</td>\n",
       "      <td>2051.239990</td>\n",
       "      <td>2093.840088</td>\n",
       "      <td>2051.239990</td>\n",
       "      <td>2091.689941</td>\n",
       "      <td>4.214910e+09</td>\n",
       "      <td>2091.689941</td>\n",
       "    </tr>\n",
       "    <tr>\n",
       "      <th>2</th>\n",
       "      <td>2015-12-03</td>\n",
       "      <td>2080.709961</td>\n",
       "      <td>2085.000000</td>\n",
       "      <td>2042.349976</td>\n",
       "      <td>2049.620117</td>\n",
       "      <td>4.306490e+09</td>\n",
       "      <td>2049.620117</td>\n",
       "    </tr>\n",
       "    <tr>\n",
       "      <th>3</th>\n",
       "      <td>2015-12-02</td>\n",
       "      <td>2101.709961</td>\n",
       "      <td>2104.270020</td>\n",
       "      <td>2077.110107</td>\n",
       "      <td>2079.510010</td>\n",
       "      <td>3.950640e+09</td>\n",
       "      <td>2079.510010</td>\n",
       "    </tr>\n",
       "    <tr>\n",
       "      <th>4</th>\n",
       "      <td>2015-12-01</td>\n",
       "      <td>2082.929932</td>\n",
       "      <td>2103.370117</td>\n",
       "      <td>2082.929932</td>\n",
       "      <td>2102.629883</td>\n",
       "      <td>3.712120e+09</td>\n",
       "      <td>2102.629883</td>\n",
       "    </tr>\n",
       "  </tbody>\n",
       "</table>\n",
       "</div>"
      ],
      "text/plain": [
       "         Date         Open         High          Low        Close  \\\n",
       "0  2015-12-07  2090.419922  2090.419922  2066.780029  2077.070068   \n",
       "1  2015-12-04  2051.239990  2093.840088  2051.239990  2091.689941   \n",
       "2  2015-12-03  2080.709961  2085.000000  2042.349976  2049.620117   \n",
       "3  2015-12-02  2101.709961  2104.270020  2077.110107  2079.510010   \n",
       "4  2015-12-01  2082.929932  2103.370117  2082.929932  2102.629883   \n",
       "\n",
       "         Volume    Adj Close  \n",
       "0  4.043820e+09  2077.070068  \n",
       "1  4.214910e+09  2091.689941  \n",
       "2  4.306490e+09  2049.620117  \n",
       "3  3.950640e+09  2079.510010  \n",
       "4  3.712120e+09  2102.629883  "
      ]
     },
     "execution_count": 2,
     "metadata": {},
     "output_type": "execute_result"
    }
   ],
   "source": [
    "# Creating a dataframe of the S&P500 dataset\n",
    "\n",
    "df = pd.read_csv('sphist.csv')\n",
    "\n",
    "df.head()"
   ]
  },
  {
   "cell_type": "markdown",
   "metadata": {},
   "source": [
    "We can see that the dataset has several columns which are:\n",
    "\n",
    "- **Date**: The date of the record.\n",
    "\n",
    "\n",
    "- **Open**: The opening price of the day (when trading starts).\n",
    "\n",
    "\n",
    "- **High**: The highest trade price during the day.\n",
    "\n",
    "\n",
    "- **Low**: The lowest trade price during the day.\n",
    "\n",
    "\n",
    "- **Close**: The closing price for the day (when trading is finished).\n",
    "\n",
    "\n",
    "- **Volume**: The number of shares traded.\n",
    "\n",
    "\n",
    "- **Adj Close**: The daily closing price, adjusted retroactively to include any corporate actions. \n",
    "\n",
    "All the prices are in American Dollars $. In this problem, we will be using the **Close** column as the target (The value we are trying to predict). "
   ]
  },
  {
   "cell_type": "code",
   "execution_count": 3,
   "metadata": {},
   "outputs": [
    {
     "data": {
      "text/plain": [
       "Date          object\n",
       "Open         float64\n",
       "High         float64\n",
       "Low          float64\n",
       "Close        float64\n",
       "Volume       float64\n",
       "Adj Close    float64\n",
       "dtype: object"
      ]
     },
     "execution_count": 3,
     "metadata": {},
     "output_type": "execute_result"
    }
   ],
   "source": [
    "df.dtypes"
   ]
  },
  {
   "cell_type": "code",
   "execution_count": 4,
   "metadata": {},
   "outputs": [
    {
     "data": {
      "text/plain": [
       "Date         datetime64[ns]\n",
       "Open                float64\n",
       "High                float64\n",
       "Low                 float64\n",
       "Close               float64\n",
       "Volume              float64\n",
       "Adj Close           float64\n",
       "dtype: object"
      ]
     },
     "execution_count": 4,
     "metadata": {},
     "output_type": "execute_result"
    }
   ],
   "source": [
    "df[\"Date\"] = pd.to_datetime(df[\"Date\"])\n",
    "\n",
    "df.dtypes"
   ]
  },
  {
   "cell_type": "code",
   "execution_count": 5,
   "metadata": {},
   "outputs": [
    {
     "data": {
      "text/html": [
       "<div>\n",
       "<style scoped>\n",
       "    .dataframe tbody tr th:only-of-type {\n",
       "        vertical-align: middle;\n",
       "    }\n",
       "\n",
       "    .dataframe tbody tr th {\n",
       "        vertical-align: top;\n",
       "    }\n",
       "\n",
       "    .dataframe thead th {\n",
       "        text-align: right;\n",
       "    }\n",
       "</style>\n",
       "<table border=\"1\" class=\"dataframe\">\n",
       "  <thead>\n",
       "    <tr style=\"text-align: right;\">\n",
       "      <th></th>\n",
       "      <th>Date</th>\n",
       "      <th>Open</th>\n",
       "      <th>High</th>\n",
       "      <th>Low</th>\n",
       "      <th>Close</th>\n",
       "      <th>Volume</th>\n",
       "      <th>Adj Close</th>\n",
       "    </tr>\n",
       "  </thead>\n",
       "  <tbody>\n",
       "    <tr>\n",
       "      <th>16589</th>\n",
       "      <td>1950-01-03</td>\n",
       "      <td>16.66</td>\n",
       "      <td>16.66</td>\n",
       "      <td>16.66</td>\n",
       "      <td>16.66</td>\n",
       "      <td>1260000.0</td>\n",
       "      <td>16.66</td>\n",
       "    </tr>\n",
       "    <tr>\n",
       "      <th>16588</th>\n",
       "      <td>1950-01-04</td>\n",
       "      <td>16.85</td>\n",
       "      <td>16.85</td>\n",
       "      <td>16.85</td>\n",
       "      <td>16.85</td>\n",
       "      <td>1890000.0</td>\n",
       "      <td>16.85</td>\n",
       "    </tr>\n",
       "    <tr>\n",
       "      <th>16587</th>\n",
       "      <td>1950-01-05</td>\n",
       "      <td>16.93</td>\n",
       "      <td>16.93</td>\n",
       "      <td>16.93</td>\n",
       "      <td>16.93</td>\n",
       "      <td>2550000.0</td>\n",
       "      <td>16.93</td>\n",
       "    </tr>\n",
       "    <tr>\n",
       "      <th>16586</th>\n",
       "      <td>1950-01-06</td>\n",
       "      <td>16.98</td>\n",
       "      <td>16.98</td>\n",
       "      <td>16.98</td>\n",
       "      <td>16.98</td>\n",
       "      <td>2010000.0</td>\n",
       "      <td>16.98</td>\n",
       "    </tr>\n",
       "    <tr>\n",
       "      <th>16585</th>\n",
       "      <td>1950-01-09</td>\n",
       "      <td>17.08</td>\n",
       "      <td>17.08</td>\n",
       "      <td>17.08</td>\n",
       "      <td>17.08</td>\n",
       "      <td>2520000.0</td>\n",
       "      <td>17.08</td>\n",
       "    </tr>\n",
       "  </tbody>\n",
       "</table>\n",
       "</div>"
      ],
      "text/plain": [
       "            Date   Open   High    Low  Close     Volume  Adj Close\n",
       "16589 1950-01-03  16.66  16.66  16.66  16.66  1260000.0      16.66\n",
       "16588 1950-01-04  16.85  16.85  16.85  16.85  1890000.0      16.85\n",
       "16587 1950-01-05  16.93  16.93  16.93  16.93  2550000.0      16.93\n",
       "16586 1950-01-06  16.98  16.98  16.98  16.98  2010000.0      16.98\n",
       "16585 1950-01-09  17.08  17.08  17.08  17.08  2520000.0      17.08"
      ]
     },
     "execution_count": 5,
     "metadata": {},
     "output_type": "execute_result"
    }
   ],
   "source": [
    "# Sort data in descending order\n",
    "\n",
    "df = df.sort_values(by='Date')\n",
    "\n",
    "df.head()"
   ]
  },
  {
   "cell_type": "markdown",
   "metadata": {},
   "source": [
    "## Generating Indicators to assist in making accurate predictions"
   ]
  },
  {
   "cell_type": "code",
   "execution_count": 6,
   "metadata": {},
   "outputs": [],
   "source": [
    "# Average price of the past 5, 30 and 365 days\n",
    "day_5 = df[\"Close\"].rolling(5).mean().shift(1)\n",
    "day_30 = df[\"Close\"].rolling(30).mean().shift(1)\n",
    "day_365 = df[\"Close\"].rolling(365).mean().shift(1)\n",
    "\n",
    "# Ratio of the past 5 to 365 days\n",
    "ratio_5_to_365 = day_5 / day_365\n",
    "\n",
    "# Standard deviation of the past 5 and 365 days\n",
    "day_5_std = df[\"Close\"].rolling(5).std().shift(1)\n",
    "day_365_std = df[\"Close\"].rolling(365).std().shift(1)\n",
    "\n",
    "# Ratio of the standard deviation of the past 5 to 365 days\n",
    "ratio_std_5_to_365 = day_5_std / day_365_std\n",
    "\n",
    "# Add to main dataframe\n",
    "\n",
    "df['day_5'] = day_5\n",
    "df['day_30'] = day_30\n",
    "df['day_365'] = day_365\n",
    "df['ratio_5_to_365'] = ratio_5_to_365\n",
    "df['day_5_std'] = day_5_std\n",
    "df['day_365_std'] = day_365_std\n",
    "df['ratio_std_5_to_365'] = ratio_std_5_to_365"
   ]
  },
  {
   "cell_type": "markdown",
   "metadata": {},
   "source": [
    "# Test Different Supervised Learning Models"
   ]
  },
  {
   "cell_type": "code",
   "execution_count": 8,
   "metadata": {},
   "outputs": [],
   "source": [
    "features = ['day_5', 'day_30', 'day_365', 'ratio_5_to_365', 'day_5_std', 'day_365_std', 'ratio_std_5_to_365']\n",
    "\n",
    "df = df.dropna(axis=0)\n",
    "\n",
    "train = df[df[\"Date\"] < datetime(year=2013, month=1, day=1)]\n",
    "test = df[df[\"Date\"] >= datetime(year=2013, month=1, day=1)]\n",
    "\n",
    "x_train = train[features]\n",
    "y_train = train[\"Close\"]\n",
    "\n",
    "x_test = test[features]\n",
    "y_test = test[\"Close\"]\n",
    "\n",
    "def train_predict(learner, x_train, y_train, x_test, y_test): \n",
    "    '''\n",
    "    inputs:\n",
    "       - learner: the learning algorithm to be trained and predicted on\n",
    "       - X_train: features training set\n",
    "       - y_train: income training set\n",
    "       - X_test: features testing set\n",
    "       - y_test: income testing set\n",
    "    '''\n",
    "    \n",
    "    results = {}\n",
    "    \n",
    "    # Fit the learner to the training data\n",
    "    start = time() # Get start time\n",
    "    learner = learner.fit(x_train, y_train)\n",
    "    end = time() # Get end time\n",
    "    \n",
    "    # Calculate the training time\n",
    "    results['train_time'] = end-start\n",
    "        \n",
    "    # Get the predictions on the test set(X_test)\n",
    "    # then get predictions on the training set\n",
    "    start = time() # Get start time\n",
    "    predictions_test = learner.predict(x_test)\n",
    "    predictions_train = learner.predict(x_train)\n",
    "    end = time() # Get end time\n",
    "    \n",
    "    # Calculate the total prediction time\n",
    "    results['pred_time'] = end - start\n",
    "            \n",
    "    # Compute rmse on train set\n",
    "    mse_train = mean_squared_error(y_train,predictions_train)\n",
    "    results['rmse_train'] = np.sqrt(mse_train)\n",
    "        \n",
    "    # Compute rmse on test set\n",
    "    mse_test = mean_squared_error(y_test, predictions_test)\n",
    "    results['rmse_test'] = np.sqrt(mse_test)\n",
    "    \n",
    "    # Compute mae on train set\n",
    "    results['mae_train'] = mean_absolute_error(y_train,predictions_train)\n",
    "        \n",
    "    # Compute mae on test set\n",
    "    results['mae_test'] = mean_absolute_error(y_test, predictions_test)\n",
    "       \n",
    "    # Success\n",
    "    print(\"{} has been trained\".format(learner.__class__.__name__))\n",
    "        \n",
    "    # Return the results\n",
    "    return results"
   ]
  },
  {
   "cell_type": "code",
   "execution_count": null,
   "metadata": {},
   "outputs": [],
   "source": [
    "def evaluate(results):\n",
    "    \"\"\"\n",
    "    Visualization code to display results of various learners.\n",
    "\n",
    "    inputs:\n",
    "      - results: Dictionary including stats from different learners\n",
    "    \"\"\"\n",
    "\n",
    "    # Create figure\n",
    "    fig, ax = plt.subplots(2, 3, figsize=(15, 9))\n",
    "\n",
    "    # Constants\n",
    "    bar_width = 0.45\n",
    "    colors = ['#A00000', '#00A0A0', '#00A000']\n",
    "\n",
    "    # Super loop to plot four panels of data\n",
    "    for k, learner in enumerate(results.keys()):\n",
    "        for j, metric in enumerate(['train_time', 'rmse_train', 'mae_train', 'pred_time', 'rmse_test', 'mae_test']):\n",
    "            # Creative plot code\n",
    "            ax[j // 3, j % 3].bar(k + bar_width, results[learner][metric], width=bar_width, color=colors[k])\n",
    "\n",
    "    # Add unique y-labels\n",
    "    ax[0, 0].set_ylabel(\"Time (in seconds)\")\n",
    "    ax[0, 1].set_ylabel(\"RMSE (in $)\")\n",
    "    ax[0, 2].set_ylabel(\"MAE (in $)\")\n",
    "    ax[1, 0].set_ylabel(\"Time (in seconds)\")\n",
    "    ax[1, 1].set_ylabel(\"RMSE (in $)\")\n",
    "    ax[1, 2].set_ylabel(\"MAE (in $)\")\n",
    "\n",
    "    # Hide x-axis\n",
    "    ax[0, 0].tick_params(bottom=False)\n",
    "    ax[0, 0].set(xticklabels=[])\n",
    "    ax[0, 1].tick_params(bottom=False)\n",
    "    ax[0, 1].set(xticklabels=[])\n",
    "    ax[0, 2].tick_params(bottom=False)\n",
    "    ax[0, 2].set(xticklabels=[])\n",
    "    ax[1, 0].tick_params(bottom=False)\n",
    "    ax[1, 0].set(xticklabels=[])\n",
    "    ax[1, 1].tick_params(bottom=False)\n",
    "    ax[1, 1].set(xticklabels=[])\n",
    "    ax[1, 2].tick_params(bottom=False)\n",
    "    ax[1, 2].set(xticklabels=[])\n",
    "\n",
    "    # Add titles\n",
    "    ax[0, 0].set_title(\"Model Training\")\n",
    "    ax[0, 1].set_title(\"RMSE on Training Subset\")\n",
    "    ax[0, 2].set_title(\"MAE on Training Subset\")\n",
    "    ax[1, 0].set_title(\"Model Predicting\")\n",
    "    ax[1, 1].set_title(\"RMSE on Testing Set\")\n",
    "    ax[1, 2].set_title(\"MAE on Testing Set\")\n",
    "\n",
    "    # Create patches for the legend\n",
    "    patches = []\n",
    "    for i, learner in enumerate(results.keys()):\n",
    "        patches.append(mpatches.Patch(color=colors[i], label=learner))\n",
    "    plt.legend(handles=patches, bbox_to_anchor=(-.80, 2.53), \\\n",
    "               loc='upper center', borderaxespad=0., ncol=3, fontsize='x-large')\n",
    "\n",
    "    # Aesthetics\n",
    "    plt.suptitle(\"Performance Metrics for Three Supervised Learning Models\", fontsize=16, y=1.10)\n",
    "    plt.show()"
   ]
  },
  {
   "cell_type": "code",
   "execution_count": 10,
   "metadata": {
    "scrolled": false
   },
   "outputs": [
    {
     "name": "stderr",
     "output_type": "stream",
     "text": [
      "/opt/anaconda3/lib/python3.7/site-packages/sklearn/ensemble/forest.py:245: FutureWarning: The default value of n_estimators will change from 10 in version 0.20 to 100 in 0.22.\n",
      "  \"10 in version 0.20 to 100 in 0.22.\", FutureWarning)\n"
     ]
    },
    {
     "name": "stdout",
     "output_type": "stream",
     "text": [
      "RandomForestRegressor has been trained\n"
     ]
    },
    {
     "name": "stderr",
     "output_type": "stream",
     "text": [
      "/opt/anaconda3/lib/python3.7/site-packages/sklearn/svm/base.py:193: FutureWarning: The default value of gamma will change from 'auto' to 'scale' in version 0.22 to account better for unscaled features. Set gamma explicitly to 'auto' or 'scale' to avoid this warning.\n",
      "  \"avoid this warning.\", FutureWarning)\n"
     ]
    },
    {
     "name": "stdout",
     "output_type": "stream",
     "text": [
      "SVR has been trained\n",
      "LinearRegression has been trained\n"
     ]
    },
    {
     "data": {
      "image/png": "[encoded data removed]",
      "text/plain": [
       "<Figure size 1080x648 with 6 Axes>"
      ]
     },
     "metadata": {
      "needs_background": "light"
     },
     "output_type": "display_data"
    }
   ],
   "source": [
    "from sklearn.ensemble import RandomForestRegressor\n",
    "from sklearn.svm import SVR\n",
    "from sklearn.linear_model import LinearRegression\n",
    "\n",
    "reg_A = RandomForestRegressor(random_state=42)\n",
    "reg_B = SVR()\n",
    "reg_C = LinearRegression()\n",
    "\n",
    "# Collect results on the learners\n",
    "results = {}\n",
    "for reg in [reg_A, reg_B, reg_C]:\n",
    "    reg_name = reg.__class__.__name__\n",
    "    results[reg_name] = train_predict(reg, x_train, y_train, x_test, y_test)\n",
    "\n",
    "# Run metrics visualization for the three supervised learning models chosen\n",
    "# evaluate(results)\n",
    "evaluate(results)"
   ]
  },
  {
   "cell_type": "code",
   "execution_count": 30,
   "metadata": {},
   "outputs": [],
   "source": [
    "def lr_train_test(df, features):\n",
    "    \n",
    "    df = df.dropna(axis=0)\n",
    "\n",
    "    train= df[df[\"Date\"] < datetime(year=2013, month=1, day=1)]\n",
    "    test = df[df[\"Date\"] >= datetime(year=2013, month=1, day=1)]\n",
    "\n",
    "    lr = LinearRegression()\n",
    "\n",
    "    lr.fit(train[features], train[\"Close\"])\n",
    "\n",
    "    predictions = lr.predict(test[features])\n",
    "\n",
    "    mae = mean_absolute_error(test['Close'], predictions)\n",
    "\n",
    "    mse = mean_squared_error(test['Close'], predictions)\n",
    "    rmse = np.sqrt(mse)\n",
    "    \n",
    "    print(\"The MAE is {:.2f}, and the RMSE is {:.2f}\".format(mae, rmse))\n",
    "    \n",
    "    return lr, predictions"
   ]
  },
  {
   "cell_type": "code",
   "execution_count": 31,
   "metadata": {
    "scrolled": true
   },
   "outputs": [
    {
     "name": "stdout",
     "output_type": "stream",
     "text": [
      "The MAE is 16.15, and the RMSE is 22.20\n"
     ]
    },
    {
     "data": {
      "text/plain": [
       "(LinearRegression(copy_X=True, fit_intercept=True, n_jobs=None, normalize=False),\n",
       " array([1419.35266255, 1425.50430495, 1433.37832166, 1443.35927575,\n",
       "        1457.0539429 , 1464.86735201, 1464.45835352, 1466.79323606,\n",
       "        1467.74152702, 1469.48368712, 1472.82335205, 1475.58274974,\n",
       "        1476.96476026, 1479.51381479, 1483.79260424, 1488.38935506,\n",
       "        1493.23848087, 1497.77799531, 1500.82796465, 1503.7716206 ,\n",
       "        1505.19202129, 1505.85490598, 1507.62976   , 1506.43953166,\n",
       "        1506.95416638, 1508.87875431, 1511.23045863, 1511.92566544,\n",
       "        1516.70941377, 1518.14268363, 1519.6808545 , 1522.37386362,\n",
       "        1522.6555737 , 1525.15882738, 1523.25745595, 1518.93758423,\n",
       "        1517.60935612, 1510.19806116, 1503.36678896, 1504.03404142,\n",
       "        1506.46695754, 1506.87062402, 1515.05144274, 1524.08709042,\n",
       "        1529.21938333, 1535.50377996, 1542.59949283, 1549.35853089,\n",
       "        1552.03320965, 1554.86614319, 1558.76345727, 1560.6832945 ,\n",
       "        1559.64954467, 1558.53158126, 1559.30644885, 1555.48338172,\n",
       "        1554.66094044, 1554.49311671, 1557.54151745, 1558.2570397 ,\n",
       "        1563.22595057, 1564.30086891, 1568.41201211, 1565.92193647,\n",
       "        1565.18547959, 1561.66702795, 1561.74696104, 1561.28267062,\n",
       "        1567.68506604, 1574.25883731, 1582.02496948, 1579.29107737,\n",
       "        1580.52351073, 1572.58299028, 1561.56909103, 1555.11233705,\n",
       "        1557.22509699, 1557.92048579, 1563.36371371, 1572.92564187,\n",
       "        1579.02669156, 1585.86107467, 1589.59879692, 1590.45496378,\n",
       "        1592.9442568 , 1599.28940578, 1603.97120129, 1609.54892453,\n",
       "        1620.46991115, 1627.13135777, 1631.19213153, 1634.7639549 ,\n",
       "        1639.29118613, 1644.17162393, 1649.27677923, 1656.10931236,\n",
       "        1663.25785817, 1667.11007147, 1666.18374312, 1666.07537289,\n",
       "        1662.06017449, 1660.60871288, 1656.33649188, 1655.92756453,\n",
       "        1650.87846521, 1648.67930646, 1642.53069148, 1633.41219809,\n",
       "        1627.00816232, 1629.35517092, 1629.6840915 , 1628.48978483,\n",
       "        1629.35003777, 1632.21444136, 1628.75509485, 1628.00651424,\n",
       "        1632.98249087, 1636.95999644, 1625.36229939, 1617.65190753,\n",
       "        1603.30333123, 1590.9826039 , 1586.62277292, 1591.60567913,\n",
       "        1594.56430198, 1604.15865693, 1610.38484025, 1613.24722923,\n",
       "        1616.71201775, 1623.74772911, 1631.27536576, 1639.59733163,\n",
       "        1652.19051891, 1662.3859576 , 1671.43884199, 1676.77432906,\n",
       "        1683.60355782, 1686.33329645, 1688.56099643, 1691.0745281 ,\n",
       "        1694.66637285, 1695.81807424, 1695.85414997, 1695.65013672,\n",
       "        1693.37794518, 1691.94950247, 1691.83373664, 1694.57702728,\n",
       "        1697.83462659, 1702.27708709, 1704.67722865, 1705.76895504,\n",
       "        1703.5922976 , 1699.65980869, 1696.0002438 , 1695.21650488,\n",
       "        1693.74506164, 1685.04226618, 1676.97357467, 1667.39958143,\n",
       "        1659.02335233, 1650.75727558, 1649.99965642, 1651.4530009 ,\n",
       "        1653.86718079, 1648.71707262, 1646.99559564, 1643.13077789,\n",
       "        1637.15969853, 1634.35001805, 1638.83251811, 1643.00302001,\n",
       "        1646.65625747, 1654.84998534, 1664.06011085, 1671.51274556,\n",
       "        1677.79575241, 1685.53558181, 1691.21530907, 1695.36356878,\n",
       "        1702.23709286, 1710.53067019, 1715.62837467, 1716.63846718,\n",
       "        1714.87505597, 1707.96833356, 1703.44092024, 1699.72951944,\n",
       "        1695.08350691, 1694.5034677 , 1694.64555815, 1690.19027092,\n",
       "        1689.86636753, 1688.53332961, 1679.44541004, 1671.39623156,\n",
       "        1673.95995096, 1676.17180356, 1682.78024485, 1692.26701103,\n",
       "        1707.0274638 , 1715.21356153, 1723.40469661, 1730.49649569,\n",
       "        1743.1255759 , 1748.82573765, 1753.03282726, 1755.97956711,\n",
       "        1759.55524372, 1762.72950532, 1766.53504623, 1767.55716852,\n",
       "        1767.86397785, 1768.92864426, 1767.06353472, 1768.28333287,\n",
       "        1765.8002148 , 1767.46587249, 1768.05753456, 1768.90377322,\n",
       "        1770.91925755, 1780.2852819 , 1785.60376377, 1789.64210622,\n",
       "        1794.27222851, 1793.84590392, 1794.67868661, 1795.6458073 ,\n",
       "        1797.67102851, 1800.64609368, 1806.53836492, 1808.73947745,\n",
       "        1807.73684064, 1805.84323678, 1803.47193594, 1798.48798053,\n",
       "        1798.24172424, 1799.54572949, 1801.03383432, 1798.4909434 ,\n",
       "        1796.14646512, 1789.6753712 , 1785.42636461, 1781.45997301,\n",
       "        1786.39083073, 1793.38886346, 1802.41374801, 1811.01035593,\n",
       "        1822.77635457, 1829.08151812, 1836.02742554, 1841.15589634,\n",
       "        1845.49013487, 1845.06663143, 1842.56515818, 1839.18755451,\n",
       "        1838.45378551, 1836.44676844, 1837.63777363, 1839.82494974,\n",
       "        1837.84442512, 1837.9784751 , 1840.01254008, 1841.4895845 ,\n",
       "        1840.62583977, 1846.49855809, 1847.76490649, 1843.09503882,\n",
       "        1829.63669023, 1816.68913398, 1805.96528639, 1791.58589334,\n",
       "        1785.56298257, 1783.93123951, 1774.2569835 , 1766.43848762,\n",
       "        1761.64518785, 1757.91341391, 1760.52796276, 1772.8926504 ,\n",
       "        1786.31955015, 1801.54040782, 1814.13113209, 1822.95101135,\n",
       "        1832.11540246, 1834.18755568, 1838.85613761, 1840.32876057,\n",
       "        1842.00906384, 1842.87226613, 1846.6143886 , 1849.48611484,\n",
       "        1854.4287289 , 1854.00412234, 1859.52472191, 1865.51799219,\n",
       "        1870.21209932, 1874.04141968, 1881.77458953, 1880.0110631 ,\n",
       "        1878.55478682, 1871.06025186, 1862.79878476, 1859.05974295,\n",
       "        1859.64286089, 1857.94999448, 1863.12722847, 1869.02708252,\n",
       "        1868.55683172, 1867.10987743, 1865.06140895, 1860.09509622,\n",
       "        1858.29259642, 1861.05272838, 1864.60418961, 1872.3764402 ,\n",
       "        1881.15009279, 1882.96726655, 1876.26101697, 1868.95613404,\n",
       "        1865.28968897, 1853.61858827, 1842.59380357, 1839.46556564,\n",
       "        1837.69497125, 1836.00771122, 1842.41809929, 1854.81040995,\n",
       "        1865.6021528 , 1873.17356647, 1876.74723347, 1876.33207998,\n",
       "        1875.70932528, 1875.42523411, 1877.03822396, 1877.9676059 ,\n",
       "        1882.04506502, 1885.59715931, 1882.8297165 , 1881.59952746,\n",
       "        1879.86864545, 1879.25839901, 1881.25446362, 1887.51449613,\n",
       "        1889.77800511, 1888.63555623, 1888.5063239 , 1886.14561066,\n",
       "        1881.08824503, 1880.91115657, 1885.43239926, 1889.87411996,\n",
       "        1894.92854273, 1903.06117259, 1909.6910587 , 1916.34733879,\n",
       "        1921.65363062, 1924.22502224, 1928.3380529 , 1932.11126468,\n",
       "        1937.04710701, 1942.33877191, 1948.0558613 , 1951.86921095,\n",
       "        1949.12177458, 1946.13088628, 1943.26788755, 1941.52268418,\n",
       "        1943.62818211, 1949.62274017, 1955.10480738, 1960.48422303,\n",
       "        1962.41703491, 1962.82840375, 1962.19060175, 1961.62085083,\n",
       "        1960.97896893, 1965.56972166, 1968.3859367 , 1973.93820598,\n",
       "        1977.45796894, 1978.19598718, 1977.95545636, 1975.58575495,\n",
       "        1972.00741682, 1971.79280021, 1973.80404383, 1975.34138413,\n",
       "        1973.64095114, 1975.8198661 , 1975.04543716, 1977.03655905,\n",
       "        1978.00174739, 1984.81624711, 1984.73740431, 1985.93545491,\n",
       "        1982.66322042, 1978.97362995, 1965.49583184, 1953.69195965,\n",
       "        1945.57763674, 1935.24550437, 1925.90069686, 1921.21239307,\n",
       "        1922.55902536, 1922.22992216, 1925.10579819, 1930.56083595,\n",
       "        1940.71898522, 1945.77655607, 1952.80789691, 1962.93741155,\n",
       "        1971.35150761, 1979.21965364, 1986.98053234, 1992.70351688,\n",
       "        1996.60467695, 1999.53523547, 2000.41839718, 2003.79384876,\n",
       "        2004.65732413, 2004.76831331, 2004.1788984 , 2006.38941408,\n",
       "        2005.9501282 , 2002.62159103, 2001.4803044 , 2001.3751917 ,\n",
       "        1996.57952768, 1992.79444825, 1994.8068125 , 1995.76628063,\n",
       "        1998.18302831, 2003.31459065, 2005.72050582, 2001.6876739 ,\n",
       "        2000.84624501, 1990.61084779, 1985.10724148, 1981.63289514,\n",
       "        1979.32039919, 1968.06151019, 1963.559124  , 1960.69796745,\n",
       "        1958.2333385 , 1950.2768429 , 1955.05518637, 1950.90063585,\n",
       "        1937.22739986, 1917.37765447, 1904.97374661, 1883.84378466,\n",
       "        1871.09435015, 1867.98743054, 1873.69548599, 1885.75831557,\n",
       "        1899.84686951, 1919.23263467, 1936.20790582, 1949.35611265,\n",
       "        1958.11897867, 1970.62487464, 1980.05086701, 1990.77255294,\n",
       "        2003.02970708, 2008.89112858, 2018.1283507 , 2026.1946321 ,\n",
       "        2028.90838392, 2032.9864018 , 2039.09521294, 2042.28122862,\n",
       "        2043.89145968, 2045.66908827, 2046.12062462, 2047.99494231,\n",
       "        2050.03776618, 2052.59873203, 2057.09855908, 2062.58834547,\n",
       "        2065.39952178, 2070.23279917, 2073.39311357, 2070.46719714,\n",
       "        2069.52370222, 2070.67715098, 2070.18067229, 2071.48057185,\n",
       "        2073.01793611, 2071.21861008, 2059.62041022, 2051.62597501,\n",
       "        2035.57610278, 2020.21945686, 2001.93151738, 1999.31463294,\n",
       "        2003.74301408, 2017.21983515, 2035.88769433, 2060.89097328,\n",
       "        2077.50136841, 2083.51062428, 2087.80837755, 2088.1574619 ,\n",
       "        2082.32312562, 2076.92570754, 2061.29099483, 2042.13955989,\n",
       "        2031.32568359, 2031.94021531, 2029.39995624, 2031.19628566,\n",
       "        2036.24363448, 2032.86069644, 2018.23828945, 2013.51327196,\n",
       "        2012.51947309, 2014.32767265, 2024.29011662, 2037.58565416,\n",
       "        2045.72957655, 2047.45335064, 2040.02671931, 2031.26921683,\n",
       "        2018.88350319, 2012.16198529, 2015.83815948, 2024.28394131,\n",
       "        2032.58000729, 2046.61404143, 2053.02321901, 2056.70583026,\n",
       "        2062.68735638, 2067.53058921, 2075.90317668, 2087.68887564,\n",
       "        2094.34267889, 2101.18218352, 2105.58123479, 2108.11445273,\n",
       "        2111.0225063 , 2113.91637083, 2117.02710045, 2115.40778771,\n",
       "        2116.70410558, 2114.87017711, 2111.22954946, 2108.97616705,\n",
       "        2100.84276567, 2092.85921612, 2078.52203137, 2065.83015393,\n",
       "        2059.03888749, 2055.25755149, 2055.37522329, 2061.71303914,\n",
       "        2074.15415373, 2079.00322844, 2090.94909836, 2095.78661024,\n",
       "        2099.91748524, 2090.65313406, 2083.01715702, 2073.28900186,\n",
       "        2069.9714173 , 2065.46332692, 2065.23468869, 2067.74025535,\n",
       "        2071.95625807, 2070.17460973, 2073.10104285, 2079.93384888,\n",
       "        2087.2857929 , 2089.85907034, 2094.33146137, 2099.68666343,\n",
       "        2102.66618454, 2097.8149062 , 2099.4604933 , 2099.73209243,\n",
       "        2099.84541972, 2101.20172404, 2109.25160282, 2111.03941969,\n",
       "        2115.04929944, 2114.70630244, 2108.03967883, 2106.13629401,\n",
       "        2107.23174011, 2101.79328237, 2095.88327672, 2096.39181583,\n",
       "        2097.73069112, 2095.87741515, 2097.95011562, 2102.18385031,\n",
       "        2109.12426383, 2110.25130939, 2114.97847831, 2121.18207153,\n",
       "        2127.84365401, 2129.85704719, 2130.6185416 , 2124.38342947,\n",
       "        2123.42487453, 2122.33182038, 2117.34523622, 2114.37540878,\n",
       "        2115.62892434, 2113.78262391, 2108.28444906, 2104.9468867 ,\n",
       "        2097.68043617, 2091.43015221, 2089.8817099 , 2092.37411534,\n",
       "        2092.62587449, 2093.89484791, 2097.66805153, 2096.69784066,\n",
       "        2098.77228723, 2102.07568088, 2110.45710254, 2116.54141755,\n",
       "        2118.53675342, 2114.27606065, 2112.35440631, 2097.17731934,\n",
       "        2084.34314855, 2078.13423221, 2073.19115441, 2067.19244808,\n",
       "        2072.46105434, 2068.40606056, 2062.83555872, 2062.89071718,\n",
       "        2068.79855308, 2074.08923923, 2087.36935758, 2103.62943894,\n",
       "        2114.80886398, 2120.99147006, 2123.25291476, 2124.87631292,\n",
       "        2119.66766093, 2108.87189817, 2095.63794916, 2090.47150547,\n",
       "        2089.41504508, 2090.63795134, 2095.90568246, 2103.46877459,\n",
       "        2103.54287393, 2101.81867374, 2096.32043267, 2090.5815665 ,\n",
       "        2091.73046108, 2089.65223031, 2086.79855333, 2086.74330655,\n",
       "        2089.83302419, 2089.45756481, 2092.17275405, 2090.56184825,\n",
       "        2078.67657839, 2050.35172576, 2003.26183466, 1954.20299905,\n",
       "        1927.31647265, 1918.89440867, 1922.62877454, 1940.20976764,\n",
       "        1952.32407924, 1954.56541874, 1947.42297933, 1933.7734307 ,\n",
       "        1933.47508965, 1940.35887023, 1941.40440858, 1943.7267937 ,\n",
       "        1951.66980007, 1953.459244  , 1964.52396919, 1972.86404295,\n",
       "        1972.41999811, 1975.95492161, 1968.11120665, 1956.4863473 ,\n",
       "        1945.07654326, 1939.68600365, 1920.94144889, 1908.56637287,\n",
       "        1905.25586228, 1903.95552884, 1907.81933537, 1929.34047859,\n",
       "        1950.33006969, 1966.34562691, 1985.96592898, 2000.16551996,\n",
       "        2006.53773062, 2012.22670683, 2011.65023376, 2013.49339181,\n",
       "        2016.8250344 , 2019.80622494, 2025.56659373, 2031.66317867,\n",
       "        2037.00174703, 2044.74276083, 2052.23019357, 2059.70327598,\n",
       "        2075.60557021, 2083.52795538, 2084.1730296 , 2090.55815737,\n",
       "        2099.74964984, 2101.93192902, 2103.88259424, 2108.46821313,\n",
       "        2101.88851339, 2095.50742094, 2089.28891724, 2076.79100566,\n",
       "        2059.78017446, 2054.40961632, 2048.06724405, 2049.40710971,\n",
       "        2056.45789086, 2071.05410234, 2078.26328003, 2087.52496899,\n",
       "        2088.45584102, 2090.40543827, 2088.18038301, 2091.06074244,\n",
       "        2088.76643009, 2079.33134397, 2079.56236154]))"
      ]
     },
     "execution_count": 31,
     "metadata": {},
     "output_type": "execute_result"
    }
   ],
   "source": [
    "# First go\n",
    "lr_train_test(df, features)"
   ]
  },
  {
   "cell_type": "code",
   "execution_count": null,
   "metadata": {},
   "outputs": [],
   "source": [
    "# Average volume of the past 5, 30 and 365 days\n",
    "volume_5 = df[\"Volume\"].rolling(5).mean().shift(1)\n",
    "volume_30 = df[\"Volume\"].rolling(30).mean().shift(1)\n",
    "volume_365 = df[\"Volume\"].rolling(365).mean().shift(1)\n",
    "\n",
    "# Ratio of the past 5 to 365 days\n",
    "volume_5_to_365 = volume_5 / volume_365\n",
    "\n",
    "# Standard deviation of the past 5 and 365 days\n",
    "volume_5_std = df[\"Volume\"].rolling(5).std().shift(1)\n",
    "volume_365_std = df[\"Volume\"].rolling(365).std().shift(1)\n",
    "\n",
    "# Ratio of the standard deviation of the past 5 to 365 days\n",
    "volume_std_5_to_365 = volume_5_std / volume_365_std\n",
    "\n",
    "# Add to main dataframe\n",
    "\n",
    "df['volume_5'] = volume_5\n",
    "df['volume_30'] = volume_30\n",
    "df['volume_365'] = volume_365\n",
    "df['volume_5_to_365'] = volume_5_to_365\n",
    "df['volume_5_std'] = volume_5_std\n",
    "df['volume_365_std'] = volume_365_std\n",
    "df['volume_std_5_to_365'] = volume_std_5_to_365"
   ]
  },
  {
   "cell_type": "code",
   "execution_count": 34,
   "metadata": {},
   "outputs": [
    {
     "name": "stdout",
     "output_type": "stream",
     "text": [
      "The MAE is 16.00, and the RMSE is 22.22\n"
     ]
    }
   ],
   "source": [
    "features_updated = ['day_5', 'day_30', 'day_365', 'ratio_5_to_365', 'day_5_std', 'day_365_std', 'ratio_std_5_to_365',\n",
    "           'volume_5', 'volume_30', 'volume_365', 'volume_5_to_365', 'volume_5_std',\n",
    "            'volume_365_std', 'volume_std_5_to_365']\n",
    "\n",
    "lr_train_test(df, features_updated)"
   ]
  },
  {
   "cell_type": "code",
   "execution_count": 23,
   "metadata": {
    "scrolled": true
   },
   "outputs": [
    {
     "data": {
      "image/png": "[encoded data removed]",
      "text/plain": [
       "<Figure size 1080x288 with 1 Axes>"
      ]
     },
     "metadata": {
      "needs_background": "light"
     },
     "output_type": "display_data"
    }
   ],
   "source": [
    "plt.figure(figsize=(15,4))\n",
    "\n",
    "plt.plot(test['Date'], test['Close'], label='True Price')\n",
    "plt.plot(test['Date'], predictions, label='Predicted Price')\n",
    "\n",
    "plt.ylabel(\"Stock Price ($)\")\n",
    "plt.xlabel(\"Date of Trade\")\n",
    "\n",
    "plt.xticks(rotation=-45)\n",
    "\n",
    "plt.legend()\n",
    "plt.show()"
   ]
  },
  {
   "cell_type": "code",
   "execution_count": 15,
   "metadata": {
    "scrolled": true
   },
   "outputs": [
    {
     "name": "stdout",
     "output_type": "stream",
     "text": [
      "Feature: day_5, Score: 1.06233\n",
      "Feature: day_30, Score: -0.06314\n",
      "Feature: day_365, Score: -0.00087\n",
      "Feature: ratio_5_to_365, Score: -1.41969\n",
      "Feature: day_5_std, Score: -0.09365\n",
      "Feature: day_365_std, Score: 0.02705\n",
      "Feature: ratio_std_5_to_365, Score: 0.49210\n",
      "Feature: volume_5, Score: -0.00000\n",
      "Feature: volume_30, Score: 0.00000\n",
      "Feature: volume_365, Score: 0.00000\n",
      "Feature: volume_5_to_365, Score: 1.57547\n",
      "Feature: volume_5_std, Score: 0.00000\n",
      "Feature: volume_365_std, Score: -0.00000\n",
      "Feature: volume_std_5_to_365, Score: -0.19273\n"
     ]
    },
    {
     "data": {
      "image/png": "[encoded data removed]",
      "text/plain": [
       "<Figure size 1080x360 with 1 Axes>"
      ]
     },
     "metadata": {
      "needs_background": "light"
     },
     "output_type": "display_data"
    }
   ],
   "source": [
    "importance = lr.coef_\n",
    "\n",
    "for i,v in enumerate(importance):\n",
    "    print('Feature: %s, Score: %.5f' % (features_updated[i],v))\n",
    "# plot feature importance\n",
    "fig = plt.figure(figsize = (15,5))\n",
    "plt.bar(features_updated, importance)\n",
    "plt.xticks(rotation=-45)\n",
    "plt.show()"
   ]
  },
  {
   "cell_type": "code",
   "execution_count": 25,
   "metadata": {},
   "outputs": [
    {
     "name": "stdout",
     "output_type": "stream",
     "text": [
      "16.1292236670945\n",
      "22.133950208537758\n"
     ]
    }
   ],
   "source": [
    "features_reduced = ['day_5', 'ratio_5_to_365', 'day_5_std', 'ratio_std_5_to_365',\n",
    "                    'volume_5_to_365','volume_std_5_to_365']\n",
    "\n",
    "df = df.dropna(axis=0)\n",
    "\n",
    "train_updated = df[df[\"Date\"] < datetime(year=2013, month=1, day=1)]\n",
    "test_updated = df[df[\"Date\"] >= datetime(year=2013, month=1, day=1)]\n",
    "\n",
    "lr = LinearRegression()\n",
    "\n",
    "lr.fit(train_updated[features_reduced], train_updated[\"Close\"])\n",
    "\n",
    "predictions = lr.predict(test_updated[features_reduced])\n",
    "\n",
    "mae = mean_absolute_error(test_updated['Close'], predictions)\n",
    "\n",
    "mse = mean_squared_error(test_updated['Close'], predictions)\n",
    "rmse = np.sqrt(mse)\n",
    "\n",
    "print(mae)\n",
    "print(rmse)"
   ]
  },
  {
   "cell_type": "code",
   "execution_count": null,
   "metadata": {},
   "outputs": [],
   "source": []
  },
  {
   "cell_type": "code",
   "execution_count": null,
   "metadata": {},
   "outputs": [],
   "source": []
  },
  {
   "cell_type": "code",
   "execution_count": null,
   "metadata": {
    "scrolled": true
   },
   "outputs": [],
   "source": [
    "test_dates = df[df[\"Date\"] >= datetime(year=2013, month=1, day=1)][\"Date\"]\n",
    "\n",
    "print(test_dates)"
   ]
  },
  {
   "cell_type": "code",
   "execution_count": null,
   "metadata": {},
   "outputs": [],
   "source": [
    "def train_test(df, features, date):\n",
    "    train_df  = df[df[\"Date\"] < date]\n",
    "    test_df = df[df[\"Date\"] == date]\n",
    "    \n",
    "    #initialize model\n",
    "    lr = LinearRegression()\n",
    "    target = 'Close'\n",
    "\n",
    "    #Train\n",
    "    lr.fit(train_df[features], train_df[target])\n",
    "\n",
    "    #Test\n",
    "    prediction = lr.predict(test_df[features])\n",
    "    \n",
    "    mae = mean_absolute_error(test_df[target], prediction)\n",
    "#     mse = mean_squared_error(test[target], prediction)\n",
    "#     rmse = np.sqrt(mse)\n",
    "    return mae"
   ]
  },
  {
   "cell_type": "code",
   "execution_count": null,
   "metadata": {
    "scrolled": true
   },
   "outputs": [],
   "source": [
    "maes = test_dates.apply(lambda date: train_test(df,features,date))"
   ]
  },
  {
   "cell_type": "code",
   "execution_count": null,
   "metadata": {},
   "outputs": [],
   "source": [
    "mae = np.mean(maes)\n",
    "\n",
    "# mse = np.sqrt(mse)\n",
    "\n",
    "mae"
   ]
  },
  {
   "cell_type": "code",
   "execution_count": null,
   "metadata": {},
   "outputs": [],
   "source": [
    "# plt.plot(test['Date'], test['Close'], label='True Price')\n",
    "# plt.plot(test['Date'], predictions, label='Predicted Price')\n",
    "\n",
    "# plt.xticks(rotation=-45)\n",
    "\n",
    "# plt.legend()\n",
    "# plt.show()"
   ]
  },
  {
   "cell_type": "code",
   "execution_count": null,
   "metadata": {},
   "outputs": [],
   "source": [
    "# def train_test(df, features, model):\n",
    "#     df = df.dropna(axis=0)\n",
    "    \n",
    "#     train = df[df[\"Date\"] < datetime(year=2013, month=1, day=1)]\n",
    "#     test = df[df[\"Date\"] >= datetime(year=2013, month=1, day=1)]\n",
    "\n",
    "#     model.fit(train[features], train['Close'])\n",
    "\n",
    "#     predictions = model.predict(test[features])\n",
    "\n",
    "#     mae = mean_absolute_error(test['Close'], predictions)\n",
    "\n",
    "#     mse = mean_squared_error(test['Close'], predictions)\n",
    "#     rmse = np.sqrt(mse)\n",
    "    \n",
    "#     return rmse, mae"
   ]
  }
 ],
 "metadata": {
  "kernelspec": {
   "display_name": "Python 3",
   "language": "python",
   "name": "python3"
  },
  "language_info": {
   "codemirror_mode": {
    "name": "ipython",
    "version": 3
   },
   "file_extension": ".py",
   "mimetype": "text/x-python",
   "name": "python",
   "nbconvert_exporter": "python",
   "pygments_lexer": "ipython3",
   "version": "3.7.4"
  }
 },
 "nbformat": 4,
 "nbformat_minor": 2
}
