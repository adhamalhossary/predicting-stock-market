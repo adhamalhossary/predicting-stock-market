{
 "cells": [
  {
   "cell_type": "markdown",
   "metadata": {},
   "source": [
    "# Introduction"
   ]
  },
  {
   "cell_type": "markdown",
   "metadata": {},
   "source": [
    "In this project, we will be working with data from the S&P500 Index. The S&P500 is a stock market index. Before we get into what an index is, we'll need to get into the basics of the stock market.\n",
    "\n",
    "Some companies are publicly traded, which means that anyone can buy and sell their shares on the open market. A share entitles the owner to some control over the direction of the company, and to some percentage (or share) of the earnings of the company. When we buy or sell shares, it's common to say that we are trading a stock.\n",
    "\n",
    "The price of a share is based mainly on supply and demand for a given stock. For example, Apple stock has a price of 120 dollars per share as of December 2015 -- http://www.nasdaq.com/symbol/aapl. A stock that is in less demand, like Ford Motor Company, has a lower price -- http://finance.yahoo.com/q?s=F. Stock price is also influenced by other factors, including the number of shares a company has issued.\n",
    "\n",
    "Stocks are traded daily, and the price can rise or fall from the beginning of a trading day to the end based on demand. Stocks that are in more in demand, such as Apple, are traded more often than stocks of smaller companies.\n",
    "\n",
    "Indexes aggregate the prices of multiple stocks together, and allow us to see how the market as a whole is performing. For example, the Dow Jones Industrial Average aggregates the stock prices of 30 large American companies together. The S&P500 Index aggregates the stock prices of 500 large companies. When an index fund goes up or down, we can say that the underlying market or sector it represents is also going up or down. For example, if the Dow Jones Industrial Average price goes down one day, we can say that American stocks overall went down (ie, most American stocks went down in price).\n",
    "\n",
    "we will be using historical data on the price of the S&P500 Index to make predictions about future prices. Predicting whether an index will go up or down will help us forecast how the stock market as a whole will perform. Since stocks tend to correlate with how well the economy as a whole is performing, it can also help us make economic forecasts."
   ]
  },
  {
   "cell_type": "code",
   "execution_count": 3,
   "metadata": {},
   "outputs": [],
   "source": [
    "# Importing Resources\n",
    "\n",
    "import pandas as pd\n",
    "import numpy as np\n",
    "import matplotlib.pyplot as plt\n",
    "import matplotlib.patches as mpatches\n",
    "\n",
    "from datetime import datetime\n",
    "from sklearn.metrics import mean_absolute_error, mean_squared_error\n",
    "from time import time\n",
    "\n",
    "import warnings\n",
    "warnings.filterwarnings('ignore')"
   ]
  },
  {
   "cell_type": "markdown",
   "metadata": {},
   "source": [
    "# Exploring the Data"
   ]
  },
  {
   "cell_type": "code",
   "execution_count": 4,
   "metadata": {
    "scrolled": true
   },
   "outputs": [
    {
     "data": {
      "text/html": [
       "<div>\n",
       "<style scoped>\n",
       "    .dataframe tbody tr th:only-of-type {\n",
       "        vertical-align: middle;\n",
       "    }\n",
       "\n",
       "    .dataframe tbody tr th {\n",
       "        vertical-align: top;\n",
       "    }\n",
       "\n",
       "    .dataframe thead th {\n",
       "        text-align: right;\n",
       "    }\n",
       "</style>\n",
       "<table border=\"1\" class=\"dataframe\">\n",
       "  <thead>\n",
       "    <tr style=\"text-align: right;\">\n",
       "      <th></th>\n",
       "      <th>Date</th>\n",
       "      <th>Open</th>\n",
       "      <th>High</th>\n",
       "      <th>Low</th>\n",
       "      <th>Close</th>\n",
       "      <th>Volume</th>\n",
       "      <th>Adj Close</th>\n",
       "    </tr>\n",
       "  </thead>\n",
       "  <tbody>\n",
       "    <tr>\n",
       "      <th>0</th>\n",
       "      <td>2015-12-07</td>\n",
       "      <td>2090.419922</td>\n",
       "      <td>2090.419922</td>\n",
       "      <td>2066.780029</td>\n",
       "      <td>2077.070068</td>\n",
       "      <td>4.043820e+09</td>\n",
       "      <td>2077.070068</td>\n",
       "    </tr>\n",
       "    <tr>\n",
       "      <th>1</th>\n",
       "      <td>2015-12-04</td>\n",
       "      <td>2051.239990</td>\n",
       "      <td>2093.840088</td>\n",
       "      <td>2051.239990</td>\n",
       "      <td>2091.689941</td>\n",
       "      <td>4.214910e+09</td>\n",
       "      <td>2091.689941</td>\n",
       "    </tr>\n",
       "    <tr>\n",
       "      <th>2</th>\n",
       "      <td>2015-12-03</td>\n",
       "      <td>2080.709961</td>\n",
       "      <td>2085.000000</td>\n",
       "      <td>2042.349976</td>\n",
       "      <td>2049.620117</td>\n",
       "      <td>4.306490e+09</td>\n",
       "      <td>2049.620117</td>\n",
       "    </tr>\n",
       "    <tr>\n",
       "      <th>3</th>\n",
       "      <td>2015-12-02</td>\n",
       "      <td>2101.709961</td>\n",
       "      <td>2104.270020</td>\n",
       "      <td>2077.110107</td>\n",
       "      <td>2079.510010</td>\n",
       "      <td>3.950640e+09</td>\n",
       "      <td>2079.510010</td>\n",
       "    </tr>\n",
       "    <tr>\n",
       "      <th>4</th>\n",
       "      <td>2015-12-01</td>\n",
       "      <td>2082.929932</td>\n",
       "      <td>2103.370117</td>\n",
       "      <td>2082.929932</td>\n",
       "      <td>2102.629883</td>\n",
       "      <td>3.712120e+09</td>\n",
       "      <td>2102.629883</td>\n",
       "    </tr>\n",
       "  </tbody>\n",
       "</table>\n",
       "</div>"
      ],
      "text/plain": [
       "         Date         Open         High          Low        Close  \\\n",
       "0  2015-12-07  2090.419922  2090.419922  2066.780029  2077.070068   \n",
       "1  2015-12-04  2051.239990  2093.840088  2051.239990  2091.689941   \n",
       "2  2015-12-03  2080.709961  2085.000000  2042.349976  2049.620117   \n",
       "3  2015-12-02  2101.709961  2104.270020  2077.110107  2079.510010   \n",
       "4  2015-12-01  2082.929932  2103.370117  2082.929932  2102.629883   \n",
       "\n",
       "         Volume    Adj Close  \n",
       "0  4.043820e+09  2077.070068  \n",
       "1  4.214910e+09  2091.689941  \n",
       "2  4.306490e+09  2049.620117  \n",
       "3  3.950640e+09  2079.510010  \n",
       "4  3.712120e+09  2102.629883  "
      ]
     },
     "execution_count": 4,
     "metadata": {},
     "output_type": "execute_result"
    }
   ],
   "source": [
    "# Creating a dataframe of the S&P500 dataset\n",
    "\n",
    "df = pd.read_csv('sphist.csv')\n",
    "\n",
    "df.head()"
   ]
  },
  {
   "cell_type": "markdown",
   "metadata": {},
   "source": [
    "We can see that the dataset has several columns which are:\n",
    "\n",
    "- `Date`: The date of the record.\n",
    "\n",
    "\n",
    "- `Open`: The opening price of the day (when trading starts).\n",
    "\n",
    "\n",
    "- `High`: The highest trade price during the day.\n",
    "\n",
    "\n",
    "- `Low`: The lowest trade price during the day.\n",
    "\n",
    "\n",
    "- `Close`: The closing price for the day (when trading is finished).\n",
    "\n",
    "\n",
    "- `Volume`: The number of shares traded.\n",
    "\n",
    "\n",
    "- `Adj Close`: The daily closing price, adjusted retroactively to include any corporate actions. \n",
    "\n",
    "All the prices are in American Dollars $. In this problem, we will be using the `Close` column as the target (The value we are trying to predict). "
   ]
  },
  {
   "cell_type": "markdown",
   "metadata": {},
   "source": [
    "# Preparing the Data"
   ]
  },
  {
   "cell_type": "markdown",
   "metadata": {},
   "source": [
    "Let us ensure the columns are of the correct data types."
   ]
  },
  {
   "cell_type": "code",
   "execution_count": 5,
   "metadata": {
    "scrolled": true
   },
   "outputs": [
    {
     "data": {
      "text/plain": [
       "Date          object\n",
       "Open         float64\n",
       "High         float64\n",
       "Low          float64\n",
       "Close        float64\n",
       "Volume       float64\n",
       "Adj Close    float64\n",
       "dtype: object"
      ]
     },
     "execution_count": 5,
     "metadata": {},
     "output_type": "execute_result"
    }
   ],
   "source": [
    "df.dtypes"
   ]
  },
  {
   "cell_type": "markdown",
   "metadata": {},
   "source": [
    "All columns are of the correct data types except the `Date` column which is an object. We will need to convert the column to datetime type for us to be able to split the dataset into train and test dataset by using datetime comparisons."
   ]
  },
  {
   "cell_type": "code",
   "execution_count": 6,
   "metadata": {},
   "outputs": [
    {
     "data": {
      "text/plain": [
       "Date         datetime64[ns]\n",
       "Open                float64\n",
       "High                float64\n",
       "Low                 float64\n",
       "Close               float64\n",
       "Volume              float64\n",
       "Adj Close           float64\n",
       "dtype: object"
      ]
     },
     "execution_count": 6,
     "metadata": {},
     "output_type": "execute_result"
    }
   ],
   "source": [
    "df[\"Date\"] = pd.to_datetime(df[\"Date\"])\n",
    "\n",
    "df.dtypes"
   ]
  },
  {
   "cell_type": "markdown",
   "metadata": {},
   "source": [
    "When we printed the first five rows of the dataset above, it can be seen that the rows are ordered by the `Date` column in descending order. We want it to be in ascending order for the following steps."
   ]
  },
  {
   "cell_type": "code",
   "execution_count": 7,
   "metadata": {
    "scrolled": true
   },
   "outputs": [
    {
     "data": {
      "text/html": [
       "<div>\n",
       "<style scoped>\n",
       "    .dataframe tbody tr th:only-of-type {\n",
       "        vertical-align: middle;\n",
       "    }\n",
       "\n",
       "    .dataframe tbody tr th {\n",
       "        vertical-align: top;\n",
       "    }\n",
       "\n",
       "    .dataframe thead th {\n",
       "        text-align: right;\n",
       "    }\n",
       "</style>\n",
       "<table border=\"1\" class=\"dataframe\">\n",
       "  <thead>\n",
       "    <tr style=\"text-align: right;\">\n",
       "      <th></th>\n",
       "      <th>Date</th>\n",
       "      <th>Open</th>\n",
       "      <th>High</th>\n",
       "      <th>Low</th>\n",
       "      <th>Close</th>\n",
       "      <th>Volume</th>\n",
       "      <th>Adj Close</th>\n",
       "    </tr>\n",
       "  </thead>\n",
       "  <tbody>\n",
       "    <tr>\n",
       "      <th>16589</th>\n",
       "      <td>1950-01-03</td>\n",
       "      <td>16.66</td>\n",
       "      <td>16.66</td>\n",
       "      <td>16.66</td>\n",
       "      <td>16.66</td>\n",
       "      <td>1260000.0</td>\n",
       "      <td>16.66</td>\n",
       "    </tr>\n",
       "    <tr>\n",
       "      <th>16588</th>\n",
       "      <td>1950-01-04</td>\n",
       "      <td>16.85</td>\n",
       "      <td>16.85</td>\n",
       "      <td>16.85</td>\n",
       "      <td>16.85</td>\n",
       "      <td>1890000.0</td>\n",
       "      <td>16.85</td>\n",
       "    </tr>\n",
       "    <tr>\n",
       "      <th>16587</th>\n",
       "      <td>1950-01-05</td>\n",
       "      <td>16.93</td>\n",
       "      <td>16.93</td>\n",
       "      <td>16.93</td>\n",
       "      <td>16.93</td>\n",
       "      <td>2550000.0</td>\n",
       "      <td>16.93</td>\n",
       "    </tr>\n",
       "    <tr>\n",
       "      <th>16586</th>\n",
       "      <td>1950-01-06</td>\n",
       "      <td>16.98</td>\n",
       "      <td>16.98</td>\n",
       "      <td>16.98</td>\n",
       "      <td>16.98</td>\n",
       "      <td>2010000.0</td>\n",
       "      <td>16.98</td>\n",
       "    </tr>\n",
       "    <tr>\n",
       "      <th>16585</th>\n",
       "      <td>1950-01-09</td>\n",
       "      <td>17.08</td>\n",
       "      <td>17.08</td>\n",
       "      <td>17.08</td>\n",
       "      <td>17.08</td>\n",
       "      <td>2520000.0</td>\n",
       "      <td>17.08</td>\n",
       "    </tr>\n",
       "  </tbody>\n",
       "</table>\n",
       "</div>"
      ],
      "text/plain": [
       "            Date   Open   High    Low  Close     Volume  Adj Close\n",
       "16589 1950-01-03  16.66  16.66  16.66  16.66  1260000.0      16.66\n",
       "16588 1950-01-04  16.85  16.85  16.85  16.85  1890000.0      16.85\n",
       "16587 1950-01-05  16.93  16.93  16.93  16.93  2550000.0      16.93\n",
       "16586 1950-01-06  16.98  16.98  16.98  16.98  2010000.0      16.98\n",
       "16585 1950-01-09  17.08  17.08  17.08  17.08  2520000.0      17.08"
      ]
     },
     "execution_count": 7,
     "metadata": {},
     "output_type": "execute_result"
    }
   ],
   "source": [
    "# Sort data in descending order\n",
    "\n",
    "df = df.sort_values(by='Date')\n",
    "\n",
    "df.head()"
   ]
  },
  {
   "cell_type": "markdown",
   "metadata": {},
   "source": [
    "Let's check if we have any missing values in our dataset"
   ]
  },
  {
   "cell_type": "code",
   "execution_count": 9,
   "metadata": {
    "scrolled": true
   },
   "outputs": [
    {
     "data": {
      "text/plain": [
       "Date         0\n",
       "Open         0\n",
       "High         0\n",
       "Low          0\n",
       "Close        0\n",
       "Volume       0\n",
       "Adj Close    0\n",
       "dtype: int64"
      ]
     },
     "execution_count": 9,
     "metadata": {},
     "output_type": "execute_result"
    }
   ],
   "source": [
    "df.isnull().sum()"
   ]
  },
  {
   "cell_type": "markdown",
   "metadata": {},
   "source": [
    "We have got no missing values, and our dataset has been prepared training models and making predictions. The next step is to generate some indicators that would assist us in making accurate predictions."
   ]
  },
  {
   "cell_type": "markdown",
   "metadata": {},
   "source": [
    "# Generating Indicators"
   ]
  },
  {
   "cell_type": "markdown",
   "metadata": {},
   "source": [
    "Datasets taken from the stock market need to be handled differently than datasets from other sectors when it comes to making predictions. In a normal machine learning exercise, we treat each row as independent. Stock market data is sequential, and each observation comes a day after the previous observation. Thus, the observations are not all independent, and you can't treat them as such.\n",
    "\n",
    "This means we have to be extra careful to not inject \"future\" knowledge into past rows when we do training and prediction. Injecting future knowledge will make our model look good when we are training and testing it, but will make it fail in the real world. This is how many algorithmic traders lose money.\n",
    "\n",
    "The time series nature of the data means that we can generate indicators to make our model more accurate. For instance, we can create a new column that contains the average price of the last 10 trades for each row. This will incorporate information from multiple prior rows into one, and will make predictions much more accurate.\n",
    "\n",
    "When we do this, we have to be careful not to use the current row in the values we average. We want to teach the model how to predict the current price from historical prices. If we include the current price in the prices you average, it will be equivalent to handing the answers to the model upfront, and will make it impossible to use in the \"real world\", where we don't know the price upfront. we will use `shift()` to shift all the values forward by one day.\n",
    "\n",
    "Here are some indicators that are interesting to generate for each row:\n",
    "\n",
    "    The average price from the past 5 days.\n",
    "    The average price for the past 30 days.\n",
    "    The average price for the past 365 days.\n",
    "    The ratio between the average price for the past 5 days, and the average price for the past 365 days.\n",
    "    The standard deviation of the price over the past 5 days.\n",
    "    The standard deviation of the price over the past 365 days.\n",
    "    The ratio between the standard deviation for the past 5 days, and the standard deviation for the past 365 days.\n",
    "\n",
    "\"Days\" means \"trading days\" -- so if you're computing the average of the past 5 days, it should be the 5 most recent dates before the current one. Assume that \"price\" means the Close column. Always be careful not to include the current price in these indicators! You're predicting the next day price, so our indicators are designed to predict the current price from the previous prices."
   ]
  },
  {
   "cell_type": "code",
   "execution_count": null,
   "metadata": {},
   "outputs": [],
   "source": [
    "# Average price of the past 5, 30 and 365 days\n",
    "day_5 = df[\"Close\"].rolling(5).mean().shift(1)\n",
    "day_30 = df[\"Close\"].rolling(30).mean().shift(1)\n",
    "day_365 = df[\"Close\"].rolling(365).mean().shift(1)\n",
    "\n",
    "# Ratio of the past 5 to 365 days\n",
    "ratio_5_to_365 = day_5 / day_365\n",
    "\n",
    "# Standard deviation of the past 5 and 365 days\n",
    "day_5_std = df[\"Close\"].rolling(5).std().shift(1)\n",
    "day_365_std = df[\"Close\"].rolling(365).std().shift(1)\n",
    "\n",
    "# Ratio of the standard deviation of the past 5 to 365 days\n",
    "ratio_std_5_to_365 = day_5_std / day_365_std\n",
    "\n",
    "# Add to main dataframe\n",
    "\n",
    "df['day_5'] = day_5\n",
    "df['day_30'] = day_30\n",
    "df['day_365'] = day_365\n",
    "df['ratio_5_to_365'] = ratio_5_to_365\n",
    "df['day_5_std'] = day_5_std\n",
    "df['day_365_std'] = day_365_std\n",
    "df['ratio_std_5_to_365'] = ratio_std_5_to_365"
   ]
  },
  {
   "cell_type": "markdown",
   "metadata": {},
   "source": [
    "# Test Different Supervised Learning Models"
   ]
  },
  {
   "cell_type": "code",
   "execution_count": null,
   "metadata": {},
   "outputs": [],
   "source": [
    "features = ['day_5', 'day_30', 'day_365', 'ratio_5_to_365', 'day_5_std', 'day_365_std', 'ratio_std_5_to_365']\n",
    "\n",
    "df = df.dropna(axis=0)\n",
    "\n",
    "train = df[df[\"Date\"] < datetime(year=2013, month=1, day=1)]\n",
    "test = df[df[\"Date\"] >= datetime(year=2013, month=1, day=1)]\n",
    "\n",
    "x_train = train[features]\n",
    "y_train = train[\"Close\"]\n",
    "\n",
    "x_test = test[features]\n",
    "y_test = test[\"Close\"]\n",
    "\n",
    "def train_predict(learner, x_train, y_train, x_test, y_test): \n",
    "    '''\n",
    "    inputs:\n",
    "       - learner: the learning algorithm to be trained and predicted on\n",
    "       - X_train: features training set\n",
    "       - y_train: income training set\n",
    "       - X_test: features testing set\n",
    "       - y_test: income testing set\n",
    "    '''\n",
    "    \n",
    "    results = {}\n",
    "    \n",
    "    # Fit the learner to the training data\n",
    "    start = time() # Get start time\n",
    "    learner = learner.fit(x_train, y_train)\n",
    "    end = time() # Get end time\n",
    "    \n",
    "    # Calculate the training time\n",
    "    results['train_time'] = end-start\n",
    "        \n",
    "    # Get the predictions on the test set(X_test)\n",
    "    # then get predictions on the training set\n",
    "    start = time() # Get start time\n",
    "    predictions_test = learner.predict(x_test)\n",
    "    predictions_train = learner.predict(x_train)\n",
    "    end = time() # Get end time\n",
    "    \n",
    "    # Calculate the total prediction time\n",
    "    results['pred_time'] = end - start\n",
    "            \n",
    "    # Compute rmse on train set\n",
    "    mse_train = mean_squared_error(y_train,predictions_train)\n",
    "    results['rmse_train'] = np.sqrt(mse_train)\n",
    "        \n",
    "    # Compute rmse on test set\n",
    "    mse_test = mean_squared_error(y_test, predictions_test)\n",
    "    results['rmse_test'] = np.sqrt(mse_test)\n",
    "    \n",
    "    # Compute mae on train set\n",
    "    results['mae_train'] = mean_absolute_error(y_train,predictions_train)\n",
    "        \n",
    "    # Compute mae on test set\n",
    "    results['mae_test'] = mean_absolute_error(y_test, predictions_test)\n",
    "       \n",
    "    # Success\n",
    "    print(\"{} has been trained\".format(learner.__class__.__name__))\n",
    "        \n",
    "    # Return the results\n",
    "    return results"
   ]
  },
  {
   "cell_type": "code",
   "execution_count": null,
   "metadata": {},
   "outputs": [],
   "source": [
    "def evaluate(results):\n",
    "    \"\"\"\n",
    "    Visualization code to display results of various learners.\n",
    "\n",
    "    inputs:\n",
    "      - results: Dictionary including stats from different learners\n",
    "    \"\"\"\n",
    "\n",
    "    # Create figure\n",
    "    fig, ax = plt.subplots(2, 3, figsize=(15, 9))\n",
    "\n",
    "    # Constants\n",
    "    bar_width = 0.45\n",
    "    colors = ['#A00000', '#00A0A0', '#00A000']\n",
    "\n",
    "    # Super loop to plot four panels of data\n",
    "    for k, learner in enumerate(results.keys()):\n",
    "        for j, metric in enumerate(['train_time', 'rmse_train', 'mae_train', 'pred_time', 'rmse_test', 'mae_test']):\n",
    "            # Creative plot code\n",
    "            ax[j // 3, j % 3].bar(k + bar_width, results[learner][metric], width=bar_width, color=colors[k])\n",
    "\n",
    "    # Add unique y-labels\n",
    "    ax[0, 0].set_ylabel(\"Time (in seconds)\")\n",
    "    ax[0, 1].set_ylabel(\"RMSE (in $)\")\n",
    "    ax[0, 2].set_ylabel(\"MAE (in $)\")\n",
    "    ax[1, 0].set_ylabel(\"Time (in seconds)\")\n",
    "    ax[1, 1].set_ylabel(\"RMSE (in $)\")\n",
    "    ax[1, 2].set_ylabel(\"MAE (in $)\")\n",
    "\n",
    "    # Hide x-axis\n",
    "    ax[0, 0].tick_params(bottom=False)\n",
    "    ax[0, 0].set(xticklabels=[])\n",
    "    ax[0, 1].tick_params(bottom=False)\n",
    "    ax[0, 1].set(xticklabels=[])\n",
    "    ax[0, 2].tick_params(bottom=False)\n",
    "    ax[0, 2].set(xticklabels=[])\n",
    "    ax[1, 0].tick_params(bottom=False)\n",
    "    ax[1, 0].set(xticklabels=[])\n",
    "    ax[1, 1].tick_params(bottom=False)\n",
    "    ax[1, 1].set(xticklabels=[])\n",
    "    ax[1, 2].tick_params(bottom=False)\n",
    "    ax[1, 2].set(xticklabels=[])\n",
    "\n",
    "    # Add titles\n",
    "    ax[0, 0].set_title(\"Model Training\")\n",
    "    ax[0, 1].set_title(\"RMSE on Training Subset\")\n",
    "    ax[0, 2].set_title(\"MAE on Training Subset\")\n",
    "    ax[1, 0].set_title(\"Model Predicting\")\n",
    "    ax[1, 1].set_title(\"RMSE on Testing Set\")\n",
    "    ax[1, 2].set_title(\"MAE on Testing Set\")\n",
    "\n",
    "    # Create patches for the legend\n",
    "    patches = []\n",
    "    for i, learner in enumerate(results.keys()):\n",
    "        patches.append(mpatches.Patch(color=colors[i], label=learner))\n",
    "    plt.legend(handles=patches, bbox_to_anchor=(-.80, 2.53), \\\n",
    "               loc='upper center', borderaxespad=0., ncol=3, fontsize='x-large')\n",
    "\n",
    "    # Aesthetics\n",
    "    plt.suptitle(\"Performance Metrics for Three Supervised Learning Models\", fontsize=16, y=1.10)\n",
    "    plt.show()"
   ]
  },
  {
   "cell_type": "code",
   "execution_count": null,
   "metadata": {
    "scrolled": false
   },
   "outputs": [],
   "source": [
    "from sklearn.ensemble import RandomForestRegressor\n",
    "from sklearn.svm import SVR\n",
    "from sklearn.linear_model import LinearRegression\n",
    "\n",
    "reg_A = RandomForestRegressor(random_state=42)\n",
    "reg_B = SVR()\n",
    "reg_C = LinearRegression()\n",
    "\n",
    "# Collect results on the learners\n",
    "results = {}\n",
    "for reg in [reg_A, reg_B, reg_C]:\n",
    "    reg_name = reg.__class__.__name__\n",
    "    results[reg_name] = train_predict(reg, x_train, y_train, x_test, y_test)\n",
    "\n",
    "# Run metrics visualization for the three supervised learning models chosen\n",
    "# evaluate(results)\n",
    "evaluate(results)"
   ]
  },
  {
   "cell_type": "code",
   "execution_count": null,
   "metadata": {},
   "outputs": [],
   "source": [
    "def lr_train_test(df, features):\n",
    "    \n",
    "    df = df.dropna(axis=0)\n",
    "\n",
    "    train= df[df[\"Date\"] < datetime(year=2013, month=1, day=1)]\n",
    "    test = df[df[\"Date\"] >= datetime(year=2013, month=1, day=1)]\n",
    "\n",
    "    lr = LinearRegression()\n",
    "\n",
    "    lr.fit(train[features], train[\"Close\"])\n",
    "\n",
    "    predictions = lr.predict(test[features])\n",
    "\n",
    "    mae = mean_absolute_error(test['Close'], predictions)\n",
    "\n",
    "    mse = mean_squared_error(test['Close'], predictions)\n",
    "    rmse = np.sqrt(mse)\n",
    "    \n",
    "    print(\"The MAE is {:.2f}, and the RMSE is {:.2f}\".format(mae, rmse))\n",
    "    \n",
    "    return lr, predictions"
   ]
  },
  {
   "cell_type": "code",
   "execution_count": null,
   "metadata": {
    "scrolled": true
   },
   "outputs": [],
   "source": [
    "# First go\n",
    "lr_train_test(df, features)"
   ]
  },
  {
   "cell_type": "code",
   "execution_count": null,
   "metadata": {},
   "outputs": [],
   "source": [
    "# Average volume of the past 5, 30 and 365 days\n",
    "volume_5 = df[\"Volume\"].rolling(5).mean().shift(1)\n",
    "volume_30 = df[\"Volume\"].rolling(30).mean().shift(1)\n",
    "volume_365 = df[\"Volume\"].rolling(365).mean().shift(1)\n",
    "\n",
    "# Ratio of the past 5 to 365 days\n",
    "volume_5_to_365 = volume_5 / volume_365\n",
    "\n",
    "# Standard deviation of the past 5 and 365 days\n",
    "volume_5_std = df[\"Volume\"].rolling(5).std().shift(1)\n",
    "volume_365_std = df[\"Volume\"].rolling(365).std().shift(1)\n",
    "\n",
    "# Ratio of the standard deviation of the past 5 to 365 days\n",
    "volume_std_5_to_365 = volume_5_std / volume_365_std\n",
    "\n",
    "# Add to main dataframe\n",
    "\n",
    "df['volume_5'] = volume_5\n",
    "df['volume_30'] = volume_30\n",
    "df['volume_365'] = volume_365\n",
    "df['volume_5_to_365'] = volume_5_to_365\n",
    "df['volume_5_std'] = volume_5_std\n",
    "df['volume_365_std'] = volume_365_std\n",
    "df['volume_std_5_to_365'] = volume_std_5_to_365"
   ]
  },
  {
   "cell_type": "code",
   "execution_count": null,
   "metadata": {},
   "outputs": [],
   "source": [
    "features_updated = ['day_5', 'day_30', 'day_365', 'ratio_5_to_365', 'day_5_std', 'day_365_std', 'ratio_std_5_to_365',\n",
    "           'volume_5', 'volume_30', 'volume_365', 'volume_5_to_365', 'volume_5_std',\n",
    "            'volume_365_std', 'volume_std_5_to_365']\n",
    "\n",
    "lr_train_test(df, features_updated)"
   ]
  },
  {
   "cell_type": "code",
   "execution_count": null,
   "metadata": {
    "scrolled": true
   },
   "outputs": [],
   "source": [
    "plt.figure(figsize=(15,4))\n",
    "\n",
    "plt.plot(test['Date'], test['Close'], label='True Price')\n",
    "plt.plot(test['Date'], predictions, label='Predicted Price')\n",
    "\n",
    "plt.ylabel(\"Stock Price ($)\")\n",
    "plt.xlabel(\"Date of Trade\")\n",
    "\n",
    "plt.xticks(rotation=-45)\n",
    "\n",
    "plt.legend()\n",
    "plt.show()"
   ]
  },
  {
   "cell_type": "code",
   "execution_count": null,
   "metadata": {
    "scrolled": true
   },
   "outputs": [],
   "source": [
    "importance = lr.coef_\n",
    "\n",
    "for i,v in enumerate(importance):\n",
    "    print('Feature: %s, Score: %.5f' % (features_updated[i],v))\n",
    "# plot feature importance\n",
    "fig = plt.figure(figsize = (15,5))\n",
    "plt.bar(features_updated, importance)\n",
    "plt.xticks(rotation=-45)\n",
    "plt.show()"
   ]
  },
  {
   "cell_type": "code",
   "execution_count": null,
   "metadata": {},
   "outputs": [],
   "source": [
    "features_reduced = ['day_5', 'ratio_5_to_365', 'day_5_std', 'ratio_std_5_to_365',\n",
    "                    'volume_5_to_365','volume_std_5_to_365']\n",
    "\n",
    "df = df.dropna(axis=0)\n",
    "\n",
    "train_updated = df[df[\"Date\"] < datetime(year=2013, month=1, day=1)]\n",
    "test_updated = df[df[\"Date\"] >= datetime(year=2013, month=1, day=1)]\n",
    "\n",
    "lr = LinearRegression()\n",
    "\n",
    "lr.fit(train_updated[features_reduced], train_updated[\"Close\"])\n",
    "\n",
    "predictions = lr.predict(test_updated[features_reduced])\n",
    "\n",
    "mae = mean_absolute_error(test_updated['Close'], predictions)\n",
    "\n",
    "mse = mean_squared_error(test_updated['Close'], predictions)\n",
    "rmse = np.sqrt(mse)\n",
    "\n",
    "print(mae)\n",
    "print(rmse)"
   ]
  },
  {
   "cell_type": "code",
   "execution_count": null,
   "metadata": {},
   "outputs": [],
   "source": []
  },
  {
   "cell_type": "code",
   "execution_count": null,
   "metadata": {},
   "outputs": [],
   "source": []
  },
  {
   "cell_type": "code",
   "execution_count": null,
   "metadata": {
    "scrolled": true
   },
   "outputs": [],
   "source": [
    "test_dates = df[df[\"Date\"] >= datetime(year=2013, month=1, day=1)][\"Date\"]\n",
    "\n",
    "print(test_dates)"
   ]
  },
  {
   "cell_type": "code",
   "execution_count": null,
   "metadata": {},
   "outputs": [],
   "source": [
    "def train_test(df, features, date):\n",
    "    train_df  = df[df[\"Date\"] < date]\n",
    "    test_df = df[df[\"Date\"] == date]\n",
    "    \n",
    "    #initialize model\n",
    "    lr = LinearRegression()\n",
    "    target = 'Close'\n",
    "\n",
    "    #Train\n",
    "    lr.fit(train_df[features], train_df[target])\n",
    "\n",
    "    #Test\n",
    "    prediction = lr.predict(test_df[features])\n",
    "    \n",
    "    mae = mean_absolute_error(test_df[target], prediction)\n",
    "#     mse = mean_squared_error(test[target], prediction)\n",
    "#     rmse = np.sqrt(mse)\n",
    "    return mae"
   ]
  },
  {
   "cell_type": "code",
   "execution_count": null,
   "metadata": {
    "scrolled": true
   },
   "outputs": [],
   "source": [
    "maes = test_dates.apply(lambda date: train_test(df,features,date))"
   ]
  },
  {
   "cell_type": "code",
   "execution_count": null,
   "metadata": {},
   "outputs": [],
   "source": [
    "mae = np.mean(maes)\n",
    "\n",
    "# mse = np.sqrt(mse)\n",
    "\n",
    "mae"
   ]
  },
  {
   "cell_type": "code",
   "execution_count": null,
   "metadata": {},
   "outputs": [],
   "source": [
    "# plt.plot(test['Date'], test['Close'], label='True Price')\n",
    "# plt.plot(test['Date'], predictions, label='Predicted Price')\n",
    "\n",
    "# plt.xticks(rotation=-45)\n",
    "\n",
    "# plt.legend()\n",
    "# plt.show()"
   ]
  },
  {
   "cell_type": "code",
   "execution_count": null,
   "metadata": {},
   "outputs": [],
   "source": [
    "# def train_test(df, features, model):\n",
    "#     df = df.dropna(axis=0)\n",
    "    \n",
    "#     train = df[df[\"Date\"] < datetime(year=2013, month=1, day=1)]\n",
    "#     test = df[df[\"Date\"] >= datetime(year=2013, month=1, day=1)]\n",
    "\n",
    "#     model.fit(train[features], train['Close'])\n",
    "\n",
    "#     predictions = model.predict(test[features])\n",
    "\n",
    "#     mae = mean_absolute_error(test['Close'], predictions)\n",
    "\n",
    "#     mse = mean_squared_error(test['Close'], predictions)\n",
    "#     rmse = np.sqrt(mse)\n",
    "    \n",
    "#     return rmse, mae"
   ]
  }
 ],
 "metadata": {
  "kernelspec": {
   "display_name": "Python 3",
   "language": "python",
   "name": "python3"
  },
  "language_info": {
   "codemirror_mode": {
    "name": "ipython",
    "version": 3
   },
   "file_extension": ".py",
   "mimetype": "text/x-python",
   "name": "python",
   "nbconvert_exporter": "python",
   "pygments_lexer": "ipython3",
   "version": "3.7.4"
  }
 },
 "nbformat": 4,
 "nbformat_minor": 2
}
